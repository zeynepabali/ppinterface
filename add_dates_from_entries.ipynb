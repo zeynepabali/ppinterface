{
 "cells": [
  {
   "cell_type": "code",
   "execution_count": 11,
   "id": "610c1574",
   "metadata": {},
   "outputs": [],
   "source": [
    "import pandas as pd\n",
    "import requests"
   ]
  },
  {
   "cell_type": "code",
   "execution_count": 12,
   "id": "4628edc7",
   "metadata": {},
   "outputs": [],
   "source": [
    "pdb_df = pd.read_csv('pdb_data.csv', header=0, index_col=0)"
   ]
  },
  {
   "cell_type": "code",
   "execution_count": 13,
   "id": "6f35effa",
   "metadata": {},
   "outputs": [],
   "source": [
    "entries_idx = \"http://ftp.rcsb.org/pub/pdb/derived_data/index/entries.idx\""
   ]
  },
  {
   "cell_type": "code",
   "execution_count": 14,
   "id": "d11dbccc",
   "metadata": {},
   "outputs": [],
   "source": [
    "entries_txt = requests.get(entries_idx)"
   ]
  },
  {
   "cell_type": "code",
   "execution_count": 21,
   "id": "1ff99b85",
   "metadata": {},
   "outputs": [],
   "source": [
    "entries_df = pd.DataFrame([i.split(\"\\t\") for i in entries_txt.text.split(\"\\n\")[2:]], columns=entries_txt.text.split(\"\\n\")[0].split(\", \"))"
   ]
  },
  {
   "cell_type": "code",
   "execution_count": 28,
   "id": "4db81f05",
   "metadata": {},
   "outputs": [],
   "source": [
    "entries_df = entries_df[entries_df.IDCODE != \"\"][:]"
   ]
  },
  {
   "cell_type": "code",
   "execution_count": 29,
   "id": "5bd89273",
   "metadata": {},
   "outputs": [],
   "source": [
    "entries_df['pdb_id'] =  entries_df.IDCODE.str.lower()"
   ]
  },
  {
   "cell_type": "code",
   "execution_count": 44,
   "id": "16604150",
   "metadata": {},
   "outputs": [
    {
     "data": {
      "text/plain": [
       "29"
      ]
     },
     "execution_count": 44,
     "metadata": {},
     "output_type": "execute_result"
    }
   ],
   "source": [
    "len(entries_df['EXPERIMENT TYPE (IF NOT X-RAY)'].unique())"
   ]
  },
  {
   "cell_type": "code",
   "execution_count": 48,
   "id": "e63741e2",
   "metadata": {},
   "outputs": [
    {
     "data": {
      "text/plain": [
       "{'ELECTRON CRYSTALLOGRAPHY',\n",
       " 'ELECTRON MICROSCOPY',\n",
       " 'EPR',\n",
       " 'FIBER DIFFRACTION',\n",
       " 'FLUORESCENCE TRANSFER',\n",
       " 'INFRARED SPECTROSCOPY',\n",
       " 'NEUTRON DIFFRACTION',\n",
       " 'POWDER DIFFRACTION',\n",
       " 'SOLID-STATE NMR',\n",
       " 'SOLUTION NMR',\n",
       " 'SOLUTION SCATTERING',\n",
       " 'THEORETICAL MODEL',\n",
       " 'X-RAY DIFFRACTION'}"
      ]
     },
     "execution_count": 48,
     "metadata": {},
     "output_type": "execute_result"
    }
   ],
   "source": [
    "set([s for k in [i.split(\", \") for i in entries_df['EXPERIMENT TYPE (IF NOT X-RAY)'].unique()] for s in k])"
   ]
  },
  {
   "cell_type": "code",
   "execution_count": 41,
   "id": "d35dece4",
   "metadata": {},
   "outputs": [],
   "source": [
    "entries_df['ACCESSION DATE'] = pd.to_datetime(entries_df['ACCESSION DATE'])\n",
    "entries_df['RESOLUTION'] = pd.to_numeric(entries_df['RESOLUTION'], errors='coerce')"
   ]
  },
  {
   "cell_type": "code",
   "execution_count": 36,
   "id": "e709f93d",
   "metadata": {},
   "outputs": [
    {
     "name": "stdout",
     "output_type": "stream",
     "text": [
      "<class 'pandas.core.frame.DataFrame'>\n",
      "Int64Index: 198165 entries, 1 to 198165\n",
      "Data columns (total 9 columns):\n",
      " #   Column                          Non-Null Count   Dtype         \n",
      "---  ------                          --------------   -----         \n",
      " 0   IDCODE                          198165 non-null  object        \n",
      " 1   HEADER                          198165 non-null  object        \n",
      " 2   ACCESSION DATE                  198165 non-null  datetime64[ns]\n",
      " 3   COMPOUND                        198165 non-null  object        \n",
      " 4   SOURCE                          198165 non-null  object        \n",
      " 5   AUTHOR LIST                     198165 non-null  object        \n",
      " 6   RESOLUTION                      198165 non-null  object        \n",
      " 7   EXPERIMENT TYPE (IF NOT X-RAY)  198165 non-null  object        \n",
      " 8   pdb_id                          198165 non-null  object        \n",
      "dtypes: datetime64[ns](1), object(8)\n",
      "memory usage: 15.1+ MB\n"
     ]
    }
   ],
   "source": [
    "entries_df.info()"
   ]
  },
  {
   "cell_type": "code",
   "execution_count": 52,
   "id": "465e41af",
   "metadata": {},
   "outputs": [],
   "source": [
    "pdb_data_df = pdb_df.merge(entries_df, left_on='pdb_id', right_on='pdb_id')"
   ]
  },
  {
   "cell_type": "code",
   "execution_count": 82,
   "id": "f186826a",
   "metadata": {},
   "outputs": [],
   "source": [
    "pdb_data_df.to_csv('pdb_combined_data.csv')"
   ]
  },
  {
   "cell_type": "code",
   "execution_count": 60,
   "id": "5a5e5696",
   "metadata": {},
   "outputs": [],
   "source": [
    "from datetime import datetime"
   ]
  },
  {
   "cell_type": "code",
   "execution_count": 63,
   "id": "c23b7517",
   "metadata": {},
   "outputs": [
    {
     "data": {
      "text/plain": [
       "datetime.datetime(2022, 11, 23, 0, 0)"
      ]
     },
     "execution_count": 63,
     "metadata": {},
     "output_type": "execute_result"
    }
   ],
   "source": [
    "datetime.strptime(\"2022-11-23\", \"%Y-%m-%d\")"
   ]
  },
  {
   "cell_type": "code",
   "execution_count": 69,
   "id": "6ea66082",
   "metadata": {},
   "outputs": [
    {
     "data": {
      "text/html": [
       "<div>\n",
       "<style scoped>\n",
       "    .dataframe tbody tr th:only-of-type {\n",
       "        vertical-align: middle;\n",
       "    }\n",
       "\n",
       "    .dataframe tbody tr th {\n",
       "        vertical-align: top;\n",
       "    }\n",
       "\n",
       "    .dataframe thead th {\n",
       "        text-align: right;\n",
       "    }\n",
       "</style>\n",
       "<table border=\"1\" class=\"dataframe\">\n",
       "  <thead>\n",
       "    <tr style=\"text-align: right;\">\n",
       "      <th></th>\n",
       "      <th>pdb_id</th>\n",
       "      <th>num_interface</th>\n",
       "      <th>status</th>\n",
       "      <th>IDCODE</th>\n",
       "      <th>HEADER</th>\n",
       "      <th>ACCESSION DATE</th>\n",
       "      <th>COMPOUND</th>\n",
       "      <th>SOURCE</th>\n",
       "      <th>AUTHOR LIST</th>\n",
       "      <th>RESOLUTION</th>\n",
       "      <th>EXPERIMENT TYPE (IF NOT X-RAY)</th>\n",
       "    </tr>\n",
       "  </thead>\n",
       "  <tbody>\n",
       "    <tr>\n",
       "      <th>60892</th>\n",
       "      <td>5bk9</td>\n",
       "      <td>1</td>\n",
       "      <td>Current</td>\n",
       "      <td>5BK9</td>\n",
       "      <td>OXIDOREDUCTASE</td>\n",
       "      <td>2019-06-01</td>\n",
       "      <td>AAD-1 Bound to the Vanadyl Ion and Succinate</td>\n",
       "      <td>Delftia acidovorans</td>\n",
       "      <td>Ongpipattanakul, C., Chekan, J.R.</td>\n",
       "      <td>1.510</td>\n",
       "      <td>X-RAY DIFFRACTION</td>\n",
       "    </tr>\n",
       "    <tr>\n",
       "      <th>60893</th>\n",
       "      <td>5bka</td>\n",
       "      <td>6</td>\n",
       "      <td>Current</td>\n",
       "      <td>5BKA</td>\n",
       "      <td>OXIDOREDUCTASE</td>\n",
       "      <td>2019-06-02</td>\n",
       "      <td>2.1 Angstrom structure of ActVI-ORFA from Stre...</td>\n",
       "      <td>Streptomyces coelicolor (strain ATCC BAA-471 /...</td>\n",
       "      <td>Vuksanovic, N., Silvaggi, N.R.</td>\n",
       "      <td>2.110</td>\n",
       "      <td>X-RAY DIFFRACTION</td>\n",
       "    </tr>\n",
       "    <tr>\n",
       "      <th>60894</th>\n",
       "      <td>5bkb</td>\n",
       "      <td>1</td>\n",
       "      <td>Current</td>\n",
       "      <td>5BKB</td>\n",
       "      <td>OXIDOREDUCTASE</td>\n",
       "      <td>2019-06-02</td>\n",
       "      <td>Crystal structure of AAD-1 in complex with (R)...</td>\n",
       "      <td>Delftia acidovorans</td>\n",
       "      <td>Chekan, J.R., Nair, S.K.</td>\n",
       "      <td>1.582</td>\n",
       "      <td>X-RAY DIFFRACTION</td>\n",
       "    </tr>\n",
       "    <tr>\n",
       "      <th>60895</th>\n",
       "      <td>5bkc</td>\n",
       "      <td>1</td>\n",
       "      <td>Current</td>\n",
       "      <td>5BKC</td>\n",
       "      <td>OXIDOREDUCTASE</td>\n",
       "      <td>2019-06-02</td>\n",
       "      <td>Crystal structure of AAD-1 in complex with (R)...</td>\n",
       "      <td>Delftia acidovorans</td>\n",
       "      <td>Chekan, J.R., Nair, S.K.</td>\n",
       "      <td>1.800</td>\n",
       "      <td>X-RAY DIFFRACTION</td>\n",
       "    </tr>\n",
       "    <tr>\n",
       "      <th>60896</th>\n",
       "      <td>5bkd</td>\n",
       "      <td>1</td>\n",
       "      <td>Current</td>\n",
       "      <td>5BKD</td>\n",
       "      <td>OXIDOREDUCTASE</td>\n",
       "      <td>2019-06-02</td>\n",
       "      <td>Crystal structure of AAD-1 in complex with (R)...</td>\n",
       "      <td>Delftia acidovorans</td>\n",
       "      <td>Chekan, J.R., Nair, S.K.</td>\n",
       "      <td>1.900</td>\n",
       "      <td>X-RAY DIFFRACTION</td>\n",
       "    </tr>\n",
       "    <tr>\n",
       "      <th>...</th>\n",
       "      <td>...</td>\n",
       "      <td>...</td>\n",
       "      <td>...</td>\n",
       "      <td>...</td>\n",
       "      <td>...</td>\n",
       "      <td>...</td>\n",
       "      <td>...</td>\n",
       "      <td>...</td>\n",
       "      <td>...</td>\n",
       "      <td>...</td>\n",
       "      <td>...</td>\n",
       "    </tr>\n",
       "    <tr>\n",
       "      <th>106440</th>\n",
       "      <td>7yx6</td>\n",
       "      <td>1</td>\n",
       "      <td>Current</td>\n",
       "      <td>7YX6</td>\n",
       "      <td>RNA BINDING PROTEIN</td>\n",
       "      <td>2022-02-15</td>\n",
       "      <td>Crystal structure of YTHDF2 with compound YLI_...</td>\n",
       "      <td>Homo sapiens</td>\n",
       "      <td>Nai, F., Li, Y., Caflisch, A.</td>\n",
       "      <td>1.800</td>\n",
       "      <td>X-RAY DIFFRACTION</td>\n",
       "    </tr>\n",
       "    <tr>\n",
       "      <th>106441</th>\n",
       "      <td>7yxe</td>\n",
       "      <td>1</td>\n",
       "      <td>Current</td>\n",
       "      <td>7YXE</td>\n",
       "      <td>RNA BINDING PROTEIN</td>\n",
       "      <td>2022-02-15</td>\n",
       "      <td>Crystal structure of YTHDF2 with compound ZA_143</td>\n",
       "      <td>Homo sapiens</td>\n",
       "      <td>Nai, F., Zalesak, F., Li, Y., Caflisch, A.</td>\n",
       "      <td>1.850</td>\n",
       "      <td>X-RAY DIFFRACTION</td>\n",
       "    </tr>\n",
       "    <tr>\n",
       "      <th>106442</th>\n",
       "      <td>7yxx</td>\n",
       "      <td>3</td>\n",
       "      <td>Current</td>\n",
       "      <td>7YXX</td>\n",
       "      <td>HYDROLASE</td>\n",
       "      <td>2022-02-16</td>\n",
       "      <td>Cryo-EM structure of USP9X</td>\n",
       "      <td>Homo sapiens</td>\n",
       "      <td>Deme, J.C., Halabelian, L., Arrowsmith, C.H., ...</td>\n",
       "      <td>0.000</td>\n",
       "      <td>ELECTRON MICROSCOPY</td>\n",
       "    </tr>\n",
       "    <tr>\n",
       "      <th>106443</th>\n",
       "      <td>7z26</td>\n",
       "      <td>1</td>\n",
       "      <td>Current</td>\n",
       "      <td>7Z26</td>\n",
       "      <td>RNA BINDING PROTEIN</td>\n",
       "      <td>2022-02-25</td>\n",
       "      <td>Crystal structure of YTHDF2 YTH domain in comp...</td>\n",
       "      <td>Homo sapiens; SYNTHETIC CONSTRUCT</td>\n",
       "      <td>Nai, F., Nachawati, R., Li, Y., Caflisch, A.</td>\n",
       "      <td>1.900</td>\n",
       "      <td>X-RAY DIFFRACTION</td>\n",
       "    </tr>\n",
       "    <tr>\n",
       "      <th>106444</th>\n",
       "      <td>7z4u</td>\n",
       "      <td>1</td>\n",
       "      <td>Current</td>\n",
       "      <td>7Z4U</td>\n",
       "      <td>RNA BINDING PROTEIN</td>\n",
       "      <td>2022-03-04</td>\n",
       "      <td>Crystal structure of YTHDF2 with compound YLI_...</td>\n",
       "      <td>Homo sapiens</td>\n",
       "      <td>Nai, F., Li, Y., Caflisch, A.</td>\n",
       "      <td>1.830</td>\n",
       "      <td>X-RAY DIFFRACTION</td>\n",
       "    </tr>\n",
       "  </tbody>\n",
       "</table>\n",
       "<p>22397 rows × 11 columns</p>\n",
       "</div>"
      ],
      "text/plain": [
       "       pdb_id  num_interface   status IDCODE               HEADER  \\\n",
       "60892    5bk9              1  Current   5BK9       OXIDOREDUCTASE   \n",
       "60893    5bka              6  Current   5BKA       OXIDOREDUCTASE   \n",
       "60894    5bkb              1  Current   5BKB       OXIDOREDUCTASE   \n",
       "60895    5bkc              1  Current   5BKC       OXIDOREDUCTASE   \n",
       "60896    5bkd              1  Current   5BKD       OXIDOREDUCTASE   \n",
       "...       ...            ...      ...    ...                  ...   \n",
       "106440   7yx6              1  Current   7YX6  RNA BINDING PROTEIN   \n",
       "106441   7yxe              1  Current   7YXE  RNA BINDING PROTEIN   \n",
       "106442   7yxx              3  Current   7YXX            HYDROLASE   \n",
       "106443   7z26              1  Current   7Z26  RNA BINDING PROTEIN   \n",
       "106444   7z4u              1  Current   7Z4U  RNA BINDING PROTEIN   \n",
       "\n",
       "       ACCESSION DATE                                           COMPOUND  \\\n",
       "60892      2019-06-01       AAD-1 Bound to the Vanadyl Ion and Succinate   \n",
       "60893      2019-06-02  2.1 Angstrom structure of ActVI-ORFA from Stre...   \n",
       "60894      2019-06-02  Crystal structure of AAD-1 in complex with (R)...   \n",
       "60895      2019-06-02  Crystal structure of AAD-1 in complex with (R)...   \n",
       "60896      2019-06-02  Crystal structure of AAD-1 in complex with (R)...   \n",
       "...               ...                                                ...   \n",
       "106440     2022-02-15  Crystal structure of YTHDF2 with compound YLI_...   \n",
       "106441     2022-02-15   Crystal structure of YTHDF2 with compound ZA_143   \n",
       "106442     2022-02-16                         Cryo-EM structure of USP9X   \n",
       "106443     2022-02-25  Crystal structure of YTHDF2 YTH domain in comp...   \n",
       "106444     2022-03-04  Crystal structure of YTHDF2 with compound YLI_...   \n",
       "\n",
       "                                                   SOURCE  \\\n",
       "60892                                 Delftia acidovorans   \n",
       "60893   Streptomyces coelicolor (strain ATCC BAA-471 /...   \n",
       "60894                                 Delftia acidovorans   \n",
       "60895                                 Delftia acidovorans   \n",
       "60896                                 Delftia acidovorans   \n",
       "...                                                   ...   \n",
       "106440                                       Homo sapiens   \n",
       "106441                                       Homo sapiens   \n",
       "106442                                       Homo sapiens   \n",
       "106443                  Homo sapiens; SYNTHETIC CONSTRUCT   \n",
       "106444                                       Homo sapiens   \n",
       "\n",
       "                                              AUTHOR LIST  RESOLUTION  \\\n",
       "60892                   Ongpipattanakul, C., Chekan, J.R.       1.510   \n",
       "60893                      Vuksanovic, N., Silvaggi, N.R.       2.110   \n",
       "60894                            Chekan, J.R., Nair, S.K.       1.582   \n",
       "60895                            Chekan, J.R., Nair, S.K.       1.800   \n",
       "60896                            Chekan, J.R., Nair, S.K.       1.900   \n",
       "...                                                   ...         ...   \n",
       "106440                      Nai, F., Li, Y., Caflisch, A.       1.800   \n",
       "106441         Nai, F., Zalesak, F., Li, Y., Caflisch, A.       1.850   \n",
       "106442  Deme, J.C., Halabelian, L., Arrowsmith, C.H., ...       0.000   \n",
       "106443       Nai, F., Nachawati, R., Li, Y., Caflisch, A.       1.900   \n",
       "106444                      Nai, F., Li, Y., Caflisch, A.       1.830   \n",
       "\n",
       "       EXPERIMENT TYPE (IF NOT X-RAY)  \n",
       "60892               X-RAY DIFFRACTION  \n",
       "60893               X-RAY DIFFRACTION  \n",
       "60894               X-RAY DIFFRACTION  \n",
       "60895               X-RAY DIFFRACTION  \n",
       "60896               X-RAY DIFFRACTION  \n",
       "...                               ...  \n",
       "106440              X-RAY DIFFRACTION  \n",
       "106441              X-RAY DIFFRACTION  \n",
       "106442            ELECTRON MICROSCOPY  \n",
       "106443              X-RAY DIFFRACTION  \n",
       "106444              X-RAY DIFFRACTION  \n",
       "\n",
       "[22397 rows x 11 columns]"
      ]
     },
     "execution_count": 69,
     "metadata": {},
     "output_type": "execute_result"
    }
   ],
   "source": [
    "pdb_data_df[pdb_data_df[\"ACCESSION DATE\"] > '2019-01-01']"
   ]
  },
  {
   "cell_type": "code",
   "execution_count": 88,
   "id": "b22227ea",
   "metadata": {},
   "outputs": [
    {
     "data": {
      "text/plain": [
       "4044"
      ]
     },
     "execution_count": 88,
     "metadata": {},
     "output_type": "execute_result"
    }
   ],
   "source": [
    "len(pdb_data_df['HEADER'].unique())"
   ]
  },
  {
   "cell_type": "code",
   "execution_count": 72,
   "id": "ce6e5bb0",
   "metadata": {},
   "outputs": [],
   "source": [
    "def get_pdb_data():\n",
    "    df = pd.read_csv('pdb_combined_data.csv', header=0, index_col=0)\n",
    "    df[\"ACCESSION DATE\"] = pd.to_datetime(df[\"ACCESSION DATE\"])\n",
    "    return df\n",
    "\n",
    "pdb_df = get_pdb_data()"
   ]
  },
  {
   "cell_type": "code",
   "execution_count": 78,
   "id": "d9132654",
   "metadata": {},
   "outputs": [],
   "source": [
    "pdb_df.drop([\"IDCODE\", \"HEADER\", \"COMPOUND\", \"SOURCE\", \"AUTHOR LIST\"], axis=1, inplace=True)"
   ]
  },
  {
   "cell_type": "code",
   "execution_count": 79,
   "id": "791c91fd",
   "metadata": {},
   "outputs": [
    {
     "data": {
      "text/plain": [
       "Index(['pdb_id', 'num_interface', 'status', 'ACCESSION DATE', 'RESOLUTION',\n",
       "       'EXPERIMENT TYPE (IF NOT X-RAY)'],\n",
       "      dtype='object')"
      ]
     },
     "execution_count": 79,
     "metadata": {},
     "output_type": "execute_result"
    }
   ],
   "source": [
    "pdb_df.columns"
   ]
  },
  {
   "cell_type": "code",
   "execution_count": 80,
   "id": "fbf18b9b",
   "metadata": {},
   "outputs": [],
   "source": [
    "pdb_df.columns = ['pdb_id', 'num_interface', 'status', 'accession_date', 'resolution', 'experiment_type']"
   ]
  },
  {
   "cell_type": "code",
   "execution_count": 83,
   "id": "18b7c4b4",
   "metadata": {},
   "outputs": [],
   "source": [
    "pdb_df.to_csv('pdb_combined_data.csv')"
   ]
  },
  {
   "cell_type": "code",
   "execution_count": 84,
   "id": "dfd8fcf5",
   "metadata": {},
   "outputs": [],
   "source": [
    "pdb_df['accession_date'] = pd.to_datetime(pdb_df['accession_date']).dt.date"
   ]
  }
 ],
 "metadata": {
  "kernelspec": {
   "display_name": "compBiology",
   "language": "python",
   "name": "compbiology"
  },
  "language_info": {
   "codemirror_mode": {
    "name": "ipython",
    "version": 3
   },
   "file_extension": ".py",
   "mimetype": "text/x-python",
   "name": "python",
   "nbconvert_exporter": "python",
   "pygments_lexer": "ipython3",
   "version": "3.8.0"
  }
 },
 "nbformat": 4,
 "nbformat_minor": 5
}
